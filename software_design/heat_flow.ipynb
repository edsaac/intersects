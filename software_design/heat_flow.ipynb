{
 "cells": [
  {
   "cell_type": "code",
   "execution_count": 3,
   "metadata": {},
   "outputs": [],
   "source": [
    "import numpy as np\n",
    "import matplotlib.pyplot as plt\n",
    "\n",
    "def set_initial_condition(solution_array:np.array, interior_temperature:float):\n",
    "    solution_array = interior_temperature\n",
    "    return solution_array\n",
    "\n",
    "def set_boundary_conditions(solution_array:np.array, temp_outside:float, temp_inside:float):\n",
    "    solution_array[0] = temp_outside\n",
    "    solution_array[-1] = temp_inside\n",
    "\n",
    "def create_mesh(nsize:int):\n",
    "    return np.zeros(nsize)\n",
    "\n",
    "def integrator(solution_array:np.array, diffusivity:float):\n",
    "    r = diffusivity\n",
    "    next_array = np.copy(solution_array)\n",
    "    for i in range(1,len(solution_array) - 1):\n",
    "        next_array[i] = r*solution_array[i+1] + (1-2*r)*solution_array[i] + r*solution_array[i-1]\n",
    "    return next_array"
   ]
  },
  {
   "cell_type": "code",
   "execution_count": 4,
   "metadata": {},
   "outputs": [
    {
     "name": "stdout",
     "output_type": "stream",
     "text": [
      "[0. 0. 0. 0. 0. 0. 0. 0. 0. 0.]\n"
     ]
    },
    {
     "ename": "TypeError",
     "evalue": "'int' object does not support item assignment",
     "output_type": "error",
     "traceback": [
      "\u001b[0;31m---------------------------------------------------------------------------\u001b[0m",
      "\u001b[0;31mTypeError\u001b[0m                                 Traceback (most recent call last)",
      "\u001b[1;32m/home/edsaa/Repositories/intersects/software_design/heat_flow.ipynb Cell 2\u001b[0m in \u001b[0;36m<cell line: 6>\u001b[0;34m()\u001b[0m\n\u001b[1;32m      <a href='vscode-notebook-cell://wsl%2Bubuntu/home/edsaa/Repositories/intersects/software_design/heat_flow.ipynb#W1sdnNjb2RlLXJlbW90ZQ%3D%3D?line=2'>3</a>\u001b[0m \u001b[39mprint\u001b[39m(mesh)\n\u001b[1;32m      <a href='vscode-notebook-cell://wsl%2Bubuntu/home/edsaa/Repositories/intersects/software_design/heat_flow.ipynb#W1sdnNjb2RlLXJlbW90ZQ%3D%3D?line=3'>4</a>\u001b[0m mesh \u001b[39m=\u001b[39m set_initial_condition(mesh, \u001b[39m75\u001b[39m)\n\u001b[0;32m----> <a href='vscode-notebook-cell://wsl%2Bubuntu/home/edsaa/Repositories/intersects/software_design/heat_flow.ipynb#W1sdnNjb2RlLXJlbW90ZQ%3D%3D?line=5'>6</a>\u001b[0m set_boundary_conditions(mesh, \u001b[39m-\u001b[39;49m\u001b[39m40\u001b[39;49m, \u001b[39m75\u001b[39;49m)\n\u001b[1;32m      <a href='vscode-notebook-cell://wsl%2Bubuntu/home/edsaa/Repositories/intersects/software_design/heat_flow.ipynb#W1sdnNjb2RlLXJlbW90ZQ%3D%3D?line=6'>7</a>\u001b[0m \u001b[39mprint\u001b[39m(mesh)\n\u001b[1;32m      <a href='vscode-notebook-cell://wsl%2Bubuntu/home/edsaa/Repositories/intersects/software_design/heat_flow.ipynb#W1sdnNjb2RlLXJlbW90ZQ%3D%3D?line=8'>9</a>\u001b[0m fig, ax \u001b[39m=\u001b[39m plt\u001b[39m.\u001b[39msubplots()\n",
      "\u001b[1;32m/home/edsaa/Repositories/intersects/software_design/heat_flow.ipynb Cell 2\u001b[0m in \u001b[0;36mset_boundary_conditions\u001b[0;34m(solution_array, temp_outside, temp_inside)\u001b[0m\n\u001b[1;32m      <a href='vscode-notebook-cell://wsl%2Bubuntu/home/edsaa/Repositories/intersects/software_design/heat_flow.ipynb#W1sdnNjb2RlLXJlbW90ZQ%3D%3D?line=7'>8</a>\u001b[0m \u001b[39mdef\u001b[39;00m \u001b[39mset_boundary_conditions\u001b[39m(solution_array:np\u001b[39m.\u001b[39marray, temp_outside:\u001b[39mfloat\u001b[39m, temp_inside:\u001b[39mfloat\u001b[39m):\n\u001b[0;32m----> <a href='vscode-notebook-cell://wsl%2Bubuntu/home/edsaa/Repositories/intersects/software_design/heat_flow.ipynb#W1sdnNjb2RlLXJlbW90ZQ%3D%3D?line=8'>9</a>\u001b[0m     solution_array[\u001b[39m0\u001b[39;49m] \u001b[39m=\u001b[39m temp_outside\n\u001b[1;32m     <a href='vscode-notebook-cell://wsl%2Bubuntu/home/edsaa/Repositories/intersects/software_design/heat_flow.ipynb#W1sdnNjb2RlLXJlbW90ZQ%3D%3D?line=9'>10</a>\u001b[0m     solution_array[\u001b[39m-\u001b[39m\u001b[39m1\u001b[39m] \u001b[39m=\u001b[39m temp_inside\n",
      "\u001b[0;31mTypeError\u001b[0m: 'int' object does not support item assignment"
     ]
    }
   ],
   "source": [
    "NSIZE = 10\n",
    "mesh = create_mesh(NSIZE)\n",
    "print(mesh)\n",
    "\n",
    "mesh = set_initial_condition(mesh, 75)\n",
    "\n",
    "set_boundary_conditions(mesh, -40, 75)\n",
    "print(mesh)\n",
    "\n",
    "fig, ax = plt.subplots()\n",
    "ax.spines['top'].set_visible(False)\n",
    "ax.spines['right'].set_visible(False)\n",
    "ax.plot(mesh)\n",
    "plt.show()\n",
    "\n",
    "mesh = integrator(mesh, 1)\n",
    "print(mesh)\n"
   ]
  },
  {
   "cell_type": "code",
   "execution_count": null,
   "metadata": {},
   "outputs": [],
   "source": []
  }
 ],
 "metadata": {
  "kernelspec": {
   "display_name": "wenv",
   "language": "python",
   "name": "python3"
  },
  "language_info": {
   "codemirror_mode": {
    "name": "ipython",
    "version": 3
   },
   "file_extension": ".py",
   "mimetype": "text/x-python",
   "name": "python",
   "nbconvert_exporter": "python",
   "pygments_lexer": "ipython3",
   "version": "3.9.5"
  },
  "orig_nbformat": 4
 },
 "nbformat": 4,
 "nbformat_minor": 2
}
